{
 "cells": [
  {
   "cell_type": "code",
   "execution_count": 1,
   "metadata": {},
   "outputs": [],
   "source": [
    "import openml\n",
    "from openml.tasks import TaskType\n",
    "from statistics import mean "
   ]
  },
  {
   "cell_type": "code",
   "execution_count": 24,
   "metadata": {},
   "outputs": [],
   "source": [
    "MAX_INSTANCES=5000\n",
    "MAX_FEATURES=50\n",
    "MAX_CLASSES=15\n",
    "SIMBOLIC_FEATURES= 0\n",
    "MISSING_VALUES=0"
   ]
  },
  {
   "cell_type": "code",
   "execution_count": 3,
   "metadata": {},
   "outputs": [],
   "source": [
    "def get_valid_tasks(filter, task_type = TaskType.SUPERVISED_CLASSIFICATION):\n",
    "    tasks = openml.tasks.list_tasks(task_type=task_type, output_format=\"dataframe\")\n",
    "    filtered_tasks=tasks.query(filter)\n",
    "    return list(filtered_tasks.tid)"
   ]
  },
  {
   "cell_type": "code",
   "execution_count": 5,
   "metadata": {},
   "outputs": [],
   "source": [
    "def evaluate_tasks(task_ids):\n",
    "    result = []\n",
    "    for id in task_ids:\n",
    "        mean_auc = evaluate_roc_auc(id)\n",
    "        result.append({\"task_id\": id, \"auc\": mean_auc})\n",
    "    return result"
   ]
  },
  {
   "cell_type": "code",
   "execution_count": 18,
   "metadata": {},
   "outputs": [],
   "source": [
    "def evaluate_roc_auc(task_id):\n",
    "    run_ids = list(openml.runs.list_runs(task=[task_id]))\n",
    "    roc_auc = []\n",
    "    for rid in run_ids:\n",
    "        run = openml.runs.get_run(rid)\n",
    "        roc_auc.append(run.evaluations[\"area_under_roc_curve\"])\n",
    "    if roc_auc == []:\n",
    "        print(task_id)\n",
    "        return\n",
    "    return mean(roc_auc)"
   ]
  },
  {
   "cell_type": "code",
   "execution_count": 25,
   "metadata": {},
   "outputs": [],
   "source": [
    "filter = f\"NumberOfInstances<{MAX_INSTANCES} and NumberOfFeatures<{MAX_FEATURES} and NumberOfClasses<{MAX_CLASSES} and NumberOfSymbolicFeatures=={SIMBOLIC_FEATURES} and NumberOfInstancesWithMissingValues=={MISSING_VALUES}\"\n"
   ]
  },
  {
   "cell_type": "code",
   "execution_count": 27,
   "metadata": {},
   "outputs": [
    {
     "data": {
      "text/plain": [
       "[8, 238, 1772, 1888, 1949, 211702]"
      ]
     },
     "execution_count": 27,
     "metadata": {},
     "output_type": "execute_result"
    }
   ],
   "source": [
    "valid_tasks_ids=get_valid_tasks(filter)\n",
    "valid_tasks_ids"
   ]
  },
  {
   "cell_type": "code",
   "execution_count": 21,
   "metadata": {},
   "outputs": [
    {
     "name": "stdout",
     "output_type": "stream",
     "text": [
      "238\n",
      "1772\n",
      "1888\n",
      "1949\n",
      "211702\n"
     ]
    },
    {
     "data": {
      "text/plain": [
       "[{'task_id': 8, 'auc': 0.6299079433962265},\n",
       " {'task_id': 238, 'auc': None},\n",
       " {'task_id': 1772, 'auc': None},\n",
       " {'task_id': 1888, 'auc': None},\n",
       " {'task_id': 1949, 'auc': None},\n",
       " {'task_id': 211702, 'auc': None}]"
      ]
     },
     "execution_count": 21,
     "metadata": {},
     "output_type": "execute_result"
    }
   ],
   "source": [
    "evaluate_tasks(valid_tasks_ids)"
   ]
  }
 ],
 "metadata": {
  "interpreter": {
   "hash": "2647ea34e536f865ab67ff9ddee7fd78773d956cec0cab53c79b32cd10da5d83"
  },
  "kernelspec": {
   "display_name": "Python 3.9.9 64-bit",
   "language": "python",
   "name": "python3"
  },
  "language_info": {
   "codemirror_mode": {
    "name": "ipython",
    "version": 3
   },
   "file_extension": ".py",
   "mimetype": "text/x-python",
   "name": "python",
   "nbconvert_exporter": "python",
   "pygments_lexer": "ipython3",
   "version": "3.8.7"
  },
  "orig_nbformat": 4
 },
 "nbformat": 4,
 "nbformat_minor": 2
}
